{
 "cells": [
  {
   "cell_type": "markdown",
   "metadata": {},
   "source": [
    "Given a collection of intervals, merge all overlapping intervals.\n",
    "\n",
    "For example,\n",
    "Given [1,3],[2,6],[8,10],[15,18],\n",
    "return [1,6],[8,10],[15,18].\n",
    "\n",
    "https://leetcode.com/problems/merge-intervals/description/"
   ]
  },
  {
   "cell_type": "code",
   "execution_count": 1,
   "metadata": {
    "collapsed": true
   },
   "outputs": [],
   "source": [
    "class Interval:\n",
    "    def __init__(self, s=0, e=0):\n",
    "        self.start = s\n",
    "        self.end = e"
   ]
  },
  {
   "cell_type": "code",
   "execution_count": 5,
   "metadata": {},
   "outputs": [],
   "source": [
    "a = Interval(1, 3)\n",
    "b = Interval(2, 6)\n",
    "c = Interval(8, 10)\n",
    "d = Interval(15, 18)\n"
   ]
  },
  {
   "cell_type": "code",
   "execution_count": 6,
   "metadata": {
    "collapsed": true
   },
   "outputs": [],
   "source": [
    "intervals = [a,b,c,d]"
   ]
  },
  {
   "cell_type": "code",
   "execution_count": 39,
   "metadata": {
    "collapsed": true
   },
   "outputs": [],
   "source": [
    "def merge(intervals):\n",
    "    \"\"\"\n",
    "    :type intervals: List[Interval]\n",
    "    :rtype: List[Interval]\n",
    "    \"\"\"\n",
    "    intervals.sort(key=lambda x: x.start)\n",
    "    i = 0\n",
    "    while i < (len(intervals) - 1):\n",
    "        # [[1,4],[2,5]] or [[1,4],[2,3]]\n",
    "        if intervals[i].end >= intervals[i + 1].start:\n",
    "            if intervals[i].end < intervals[i + 1].end:\n",
    "                intervals[i].end = intervals[i + 1].end\n",
    "            intervals.pop(i + 1)\n",
    "        else: \n",
    "          i += 1\n",
    "    results = []\n",
    "    for i in intervals:\n",
    "        results.append([i.start,i.end])\n",
    "    return results \n",
    "            \n"
   ]
  },
  {
   "cell_type": "code",
   "execution_count": 40,
   "metadata": {},
   "outputs": [
    {
     "data": {
      "text/plain": [
       "[[1, 6], [8, 10], [15, 18]]"
      ]
     },
     "execution_count": 40,
     "metadata": {},
     "output_type": "execute_result"
    }
   ],
   "source": [
    "merge(intervals)"
   ]
  },
  {
   "cell_type": "code",
   "execution_count": null,
   "metadata": {
    "collapsed": true
   },
   "outputs": [],
   "source": []
  }
 ],
 "metadata": {
  "kernelspec": {
   "display_name": "Python 3",
   "language": "python",
   "name": "python3"
  },
  "language_info": {
   "codemirror_mode": {
    "name": "ipython",
    "version": 3
   },
   "file_extension": ".py",
   "mimetype": "text/x-python",
   "name": "python",
   "nbconvert_exporter": "python",
   "pygments_lexer": "ipython3",
   "version": "3.6.1"
  }
 },
 "nbformat": 4,
 "nbformat_minor": 2
}
