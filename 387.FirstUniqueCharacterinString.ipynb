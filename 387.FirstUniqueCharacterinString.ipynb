{
 "cells": [
  {
   "cell_type": "markdown",
   "metadata": {},
   "source": [
    "### Question"
   ]
  },
  {
   "cell_type": "markdown",
   "metadata": {},
   "source": [
    "https://leetcode.com/problems/first-unique-character-in-a-string/\n",
    "\n",
    "Given a string, find the first non-repeating character in it and return it's index. If it doesn't exist, return -1.\n",
    "\n",
    "Examples:\n",
    "\n",
    "s = \"leetcode\"\n",
    "\n",
    "return 0.\n",
    "\n",
    "s = \"loveleetcode\",\n",
    "\n",
    "return 2.\n",
    "\n",
    "Note: You may assume the string contain only lowercase letters.\n",
    "\n"
   ]
  },
  {
   "cell_type": "markdown",
   "metadata": {},
   "source": [
    "Method 1:\n",
    "\n",
    "1. Declare a dictionary \n",
    "2. Iterate the string. Use the dictionary to store the letters and frequency appeared in string. \n",
    "3. Iterate the string again and return the index of first unique letter"
   ]
  },
  {
   "cell_type": "code",
   "execution_count": 325,
   "metadata": {
    "collapsed": true
   },
   "outputs": [],
   "source": [
    "def firstUniqChar(s):\n",
    "    letters = {}\n",
    "    for l in s:\n",
    "        letters[l] = letters[l] + 1 if l in letters else 1\n",
    "    for i in range(len(s)):\n",
    "        if letters[s[i]] == 1:\n",
    "            return i\n",
    "    return -1"
   ]
  },
  {
   "cell_type": "markdown",
   "metadata": {},
   "source": [
    "Method 2:\n",
    "\n",
    "1. Declare array with 26 length\n",
    "2. Use ASCII code as index to store 26 a-z letters. And use array to store the frequency of each letter\n",
    "3. Iterate the string again and return the index of first unique letter"
   ]
  },
  {
   "cell_type": "code",
   "execution_count": 329,
   "metadata": {},
   "outputs": [],
   "source": [
    "def firstUniqChar2(s):\n",
    "    letters = [0]*26\n",
    "    for l in s:\n",
    "        letters[ord(l) - ord('a')] += 1\n",
    "    for i in range(len(s)):\n",
    "        if letters[ord(s[i]) - ord('a')] == 1:\n",
    "            return i\n",
    "    return -1"
   ]
  },
  {
   "cell_type": "code",
   "execution_count": 306,
   "metadata": {
    "collapsed": true
   },
   "outputs": [],
   "source": [
    "def firstUniqChar(s):   \n",
    "    letters = {}\n",
    "    for c in s:\n",
    "        letters[c] = letters[c] + 1 if c in letters else 1\n",
    "    for i in range(len(s)):\n",
    "        if letters[s[i]] == 1:\n",
    "              return i\n",
    "    return -1"
   ]
  },
  {
   "cell_type": "markdown",
   "metadata": {},
   "source": [
    "Test"
   ]
  },
  {
   "cell_type": "code",
   "execution_count": 330,
   "metadata": {},
   "outputs": [
    {
     "name": "stdout",
     "output_type": "stream",
     "text": [
      "0\n",
      "0\n"
     ]
    }
   ],
   "source": [
    "s = \"leetcode\"\n",
    "print(firstUniqChar(s))\n",
    "print(firstUniqChar2(s))"
   ]
  },
  {
   "cell_type": "code",
   "execution_count": 331,
   "metadata": {},
   "outputs": [
    {
     "name": "stdout",
     "output_type": "stream",
     "text": [
      "2\n",
      "2\n"
     ]
    }
   ],
   "source": [
    "s = \"loveleetcode\"\n",
    "print(firstUniqChar(s))\n",
    "print(firstUniqChar2(s))"
   ]
  },
  {
   "cell_type": "code",
   "execution_count": null,
   "metadata": {
    "collapsed": true
   },
   "outputs": [],
   "source": []
  }
 ],
 "metadata": {
  "kernelspec": {
   "display_name": "Python 3",
   "language": "python",
   "name": "python3"
  },
  "language_info": {
   "codemirror_mode": {
    "name": "ipython",
    "version": 3
   },
   "file_extension": ".py",
   "mimetype": "text/x-python",
   "name": "python",
   "nbconvert_exporter": "python",
   "pygments_lexer": "ipython3",
   "version": "3.6.1"
  }
 },
 "nbformat": 4,
 "nbformat_minor": 2
}
