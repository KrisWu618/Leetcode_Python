{
 "cells": [
  {
   "cell_type": "markdown",
   "metadata": {},
   "source": [
    "| Operation   |   Running Tim  |\n",
    "|-------------|----------------|\n",
    "| S.isEmpty() |     O(1)       |\n",
    "|   S.push(e) |     O(1)       |\n",
    "|   S.pop()   |     O(1)       |\n",
    "|   S.top()   |     O(1)       |\n",
    "|   S.size()  |     O(1)       |"
   ]
  },
  {
   "cell_type": "code",
   "execution_count": 51,
   "metadata": {
    "collapsed": true
   },
   "outputs": [],
   "source": [
    "class Stack:\n",
    "    def __init__(self):\n",
    "        '''Create an empty stack\n",
    "           nonpublic list instance'''\n",
    "        self.items = [] \n",
    "    \n",
    "    def isEmpty(self): #O(1)\n",
    "        return self.items == []\n",
    "    \n",
    "    def push(self, item): #O(1)\n",
    "        '''Add new element to the top of the stack.'''\n",
    "        self.items.append(item) # no return needed\n",
    "    \n",
    "    def pop(self): #O(1)\n",
    "        if self.isEmpty():\n",
    "            raise Exception('Stack is empty')\n",
    "        return self.items.pop()\n",
    "    \n",
    "    def top(self): #O(1)\n",
    "        '''Return (but do not remove) the element at the top of the stack'''\n",
    "        if self.isEmpty(): # check if the stack is empty\n",
    "            raise Exception('Stack is empty')\n",
    "        return self.items[-1]\n",
    "    \n",
    "    def size(self): #O(1)\n",
    "        return len(self.items)"
   ]
  },
  {
   "cell_type": "code",
   "execution_count": 12,
   "metadata": {},
   "outputs": [
    {
     "name": "stdout",
     "output_type": "stream",
     "text": [
      "True\n",
      "dog\n",
      "3\n",
      "False\n",
      "8.4\n",
      "True\n",
      "2\n"
     ]
    }
   ],
   "source": [
    "s=Stack()\n",
    "\n",
    "print(s.isEmpty())\n",
    "s.push(4)\n",
    "s.push('dog')\n",
    "print(s.top())\n",
    "s.push(True)\n",
    "print(s.size())\n",
    "print(s.isEmpty())\n",
    "s.push(8.4)\n",
    "print(s.pop())\n",
    "print(s.pop())\n",
    "print(s.size())"
   ]
  },
  {
   "cell_type": "code",
   "execution_count": null,
   "metadata": {
    "collapsed": true
   },
   "outputs": [],
   "source": []
  },
  {
   "cell_type": "code",
   "execution_count": null,
   "metadata": {
    "collapsed": true
   },
   "outputs": [],
   "source": []
  }
 ],
 "metadata": {
  "kernelspec": {
   "display_name": "Python 3",
   "language": "python",
   "name": "python3"
  },
  "language_info": {
   "codemirror_mode": {
    "name": "ipython",
    "version": 3
   },
   "file_extension": ".py",
   "mimetype": "text/x-python",
   "name": "python",
   "nbconvert_exporter": "python",
   "pygments_lexer": "ipython3",
   "version": "3.6.1"
  }
 },
 "nbformat": 4,
 "nbformat_minor": 2
}
