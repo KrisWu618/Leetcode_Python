{
 "cells": [
  {
   "cell_type": "markdown",
   "metadata": {},
   "source": [
    "### Question:\n",
    "Suppose you have a random list of people standing in a queue. Each person is described by a pair of integers (h, k), where h is the height of the person and k is the number of people in front of this person who have a height greater than or equal to h. Write an algorithm to reconstruct the queue.\n",
    "\n",
    "Note:\n",
    "The number of people is less than 1,100.\n",
    "\n",
    "\n",
    "Example\n",
    "\n",
    "Input:\n",
    "[[7,0], [4,4], [7,1], [5,0], [6,1], [5,2]]\n",
    "\n",
    "Output:\n",
    "[[5,0], [7,0], [5,2], [6,1], [4,4], [7,1]]"
   ]
  },
  {
   "cell_type": "markdown",
   "metadata": {},
   "source": [
    "### Solution:\n",
    "\n",
    "Insert short person to tall person will not affect the relative order of the taller persons, thus sort from higher height to lower heigh\n",
    "\t * for persons with same height, sort them according to the k index\n",
    "\t * for example: for [7,0], [4,4], [7,1], [5,0], [6,1], [5,2]\n",
    "\t * first sort tallest persons [7,0], [7,1],\n",
    "\t * then insert lower height to the position of their k index\n",
    "\t * [7,0], [6,1] [7,1]\n",
    "\t * [5,0],[7,0], [6,1] [7,1]\n",
    "\t * [5,0],[7,0], [5,2] [6,1] [7,1]\n",
    "\t * [5,0],[7,0], [5,2] [6,1], [4,4] [7,1]\n",
    "\t * done.\n",
    "\t "
   ]
  },
  {
   "cell_type": "code",
   "execution_count": null,
   "metadata": {
    "collapsed": true
   },
   "outputs": [],
   "source": [
    "class Solution:\n",
    "    def reconstructQueue(self, people):\n",
    "        \"\"\"\n",
    "        :type people: List[List[int]]\n",
    "        :rtype: List[List[int]]\n",
    "        \"\"\"\n",
    "        people.sort(key=lambda a:[-a[0],a[1]] )\n",
    "        res = []\n",
    "        for i in people:\n",
    "            res.insert(i[1],i)\n",
    "        return res\n"
   ]
  },
  {
   "cell_type": "code",
   "execution_count": null,
   "metadata": {
    "collapsed": true
   },
   "outputs": [],
   "source": []
  }
 ],
 "metadata": {
  "kernelspec": {
   "display_name": "Python 3",
   "language": "python",
   "name": "python3"
  },
  "language_info": {
   "codemirror_mode": {
    "name": "ipython",
    "version": 3
   },
   "file_extension": ".py",
   "mimetype": "text/x-python",
   "name": "python",
   "nbconvert_exporter": "python",
   "pygments_lexer": "ipython3",
   "version": "3.6.1"
  }
 },
 "nbformat": 4,
 "nbformat_minor": 2
}
